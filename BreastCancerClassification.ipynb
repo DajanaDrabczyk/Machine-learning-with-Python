{
 "cells": [
  {
   "cell_type": "markdown",
   "id": "2d0e0abe",
   "metadata": {},
   "source": [
    "# Metody statystyczne i analityczne Big Data - EGZAMIN\n",
    "\n",
    "Dane: \"Informacje o pacjentach chorujących na raka piersi\"\n",
    "\n",
    "Cel: Porównanie 3 modeli i wybór najlepszego dla zbioru wdbc.csv zawierającego informacje o pacjentach chorujących na raka piersi - zamodelowanie zmiennej 'Diagnosis' - oznaczającej typ raka piersi (zmienna przyjmuje wartości: M = malignant, B = benign)"
   ]
  },
  {
   "cell_type": "markdown",
   "id": "5c8f71fb",
   "metadata": {},
   "source": [
    "Opis zmiennych:\n",
    "    1) ID number\n",
    "    2) Diagnosis (M = malignant, B = benign)\n",
    "    3) kolumny V1 - V30 - dane opisujące wymiary nowotworu"
   ]
  },
  {
   "cell_type": "code",
   "execution_count": null,
   "id": "52c26a9e",
   "metadata": {},
   "outputs": [],
   "source": [
    "#biblioteki:\n",
    "\n",
    "import numpy as np\n",
    "import pandas as pd\n",
    "import matplotlib.pyplot as plt\n",
    "import seaborn as sns\n",
    "import sklearn\n",
    "import statsmodels.api as sm\n",
    "import statsmodels.formula.api as smf\n",
    "import sklearn.linear_model as skl_lm\n",
    "import sklearn.ensemble\n",
    "\n",
    "from sklearn import neighbors\n",
    "from sklearn.metrics import confusion_matrix, classification_report, precision_score\n",
    "from scipy import stats\n",
    "from sklearn.model_selection import train_test_split\n",
    "from sklearn import preprocessing\n",
    "from sklearn.linear_model import LogisticRegression\n",
    "from sklearn.metrics import plot_confusion_matrix\n",
    "from sklearn.model_selection import StratifiedKFold, cross_val_score\n",
    "from sklearn.model_selection import GridSearchCV\n"
   ]
  },
  {
   "cell_type": "markdown",
   "id": "965b0a40",
   "metadata": {},
   "source": [
    "Wczytanie danych:"
   ]
  },
  {
   "cell_type": "code",
   "execution_count": null,
   "id": "3115ec13",
   "metadata": {},
   "outputs": [],
   "source": [
    "df = pd.read_csv(\"wdbc.csv\", index_col=0)"
   ]
  },
  {
   "cell_type": "markdown",
   "id": "a5c8e63b",
   "metadata": {},
   "source": [
    "1. Wstępna eksploracyjna analiza danych"
   ]
  },
  {
   "cell_type": "code",
   "execution_count": null,
   "id": "b021c0f1",
   "metadata": {
    "scrolled": true
   },
   "outputs": [],
   "source": [
    "df.head()\n"
   ]
  },
  {
   "cell_type": "code",
   "execution_count": null,
   "id": "16dd7f38",
   "metadata": {},
   "outputs": [],
   "source": [
    "df.describe().T"
   ]
  },
  {
   "cell_type": "code",
   "execution_count": null,
   "id": "20a66a42",
   "metadata": {},
   "outputs": [],
   "source": [
    "df.dtypes"
   ]
  },
  {
   "cell_type": "code",
   "execution_count": null,
   "id": "a5cf98ee",
   "metadata": {},
   "outputs": [],
   "source": [
    "df.info()"
   ]
  },
  {
   "cell_type": "code",
   "execution_count": null,
   "id": "60e216fa",
   "metadata": {},
   "outputs": [],
   "source": [
    "df.shape"
   ]
  },
  {
   "cell_type": "code",
   "execution_count": null,
   "id": "94091a7b",
   "metadata": {},
   "outputs": [],
   "source": [
    "df.Diagnosis.value_counts()"
   ]
  },
  {
   "cell_type": "code",
   "execution_count": null,
   "id": "0baa9668",
   "metadata": {},
   "outputs": [],
   "source": [
    "fig, ax = plt.subplots(figsize = (8, 8))\n",
    "\n",
    "ax.pie(df.Diagnosis.value_counts(), labels = [\"B\", \"M\"], explode = (0, 0.05), shadow=True, radius=0.75,\n",
    "       autopct = '%1.2f%%', startangle = 180, colors = [\"#ff9999\", \"#66b3ff\"])\n",
    "\n",
    "ax.legend(['B - benign', 'M - malignant'])\n",
    "ax.set_title(\"Diagnosis\")\n",
    "plt.show()"
   ]
  },
  {
   "cell_type": "code",
   "execution_count": null,
   "id": "89bd6972",
   "metadata": {},
   "outputs": [],
   "source": [
    "df.isnull().any()"
   ]
  },
  {
   "cell_type": "code",
   "execution_count": null,
   "id": "7a1f84aa",
   "metadata": {},
   "outputs": [],
   "source": [
    "df.columns"
   ]
  },
  {
   "cell_type": "markdown",
   "id": "fee3b18e",
   "metadata": {},
   "source": [
    "Wnioski:\n",
    "    1. Zbiór danych posiada 31 kolumn oraz 569 wierszy, z czego tylko zmienna 'Diagnosis' jest kategoryczna.\n",
    "    W następnej części zajmę się denotacją wartości zmiennej do wartości numerycznych oraz zbadaniem korelacji między zmiennymi.\n",
    "    2. Niektóre z kolumn posiadają duży rozrzut pomiędzy średnią(mean), a połową wartości(50%). \n",
    "    W następnych krokach zbadam obecność punktów oddalonych, które mogą zaburzać rozkład normalny\n",
    "    3. Zmienna 'Diagnosis' składa się z 62.74% B oraz 37.26% M \n",
    "    4. Zbiór danych nie posiada brakujących danych\n",
    "    5. Nazwy kolumn posiadają w swoich nazwach znak ' ' - dla ułatwienia pracy nad zbiorem danych, w przyszłych krokach znaki te zostaną usunięte.\n",
    "    "
   ]
  },
  {
   "cell_type": "markdown",
   "id": "e77c8f40",
   "metadata": {},
   "source": [
    "Denotacja wartości zmiennej 'Diagnosis':"
   ]
  },
  {
   "cell_type": "code",
   "execution_count": null,
   "id": "6ae36545",
   "metadata": {},
   "outputs": [],
   "source": [
    "df['Diagnosis'] = df['Diagnosis'].map({'M': 1, 'B':0})"
   ]
  },
  {
   "cell_type": "code",
   "execution_count": null,
   "id": "e6769a41",
   "metadata": {},
   "outputs": [],
   "source": [
    "df.Diagnosis"
   ]
  },
  {
   "cell_type": "markdown",
   "id": "65e9aeae",
   "metadata": {},
   "source": [
    "Ujednolicenie nazw kolumn:"
   ]
  },
  {
   "cell_type": "code",
   "execution_count": null,
   "id": "1da360f1",
   "metadata": {},
   "outputs": [],
   "source": [
    "df.columns = df.columns.str.strip()"
   ]
  },
  {
   "cell_type": "code",
   "execution_count": null,
   "id": "aab70c5a",
   "metadata": {},
   "outputs": [],
   "source": [
    "df.columns"
   ]
  },
  {
   "cell_type": "markdown",
   "id": "a09769a3",
   "metadata": {},
   "source": [
    "Badanie korelacji między zmiennymi za pomocą współczynnika Pearsona:"
   ]
  },
  {
   "cell_type": "code",
   "execution_count": null,
   "id": "c299c618",
   "metadata": {},
   "outputs": [],
   "source": [
    "corr_P = df.corr(\"pearson\")"
   ]
  },
  {
   "cell_type": "code",
   "execution_count": null,
   "id": "f5450c10",
   "metadata": {},
   "outputs": [],
   "source": [
    "corr_P"
   ]
  },
  {
   "cell_type": "code",
   "execution_count": null,
   "id": "c4cc9232",
   "metadata": {},
   "outputs": [],
   "source": [
    "corr_P_tri = corr_P.where(np.triu(np.ones(corr_P.shape, dtype=bool),k=1)).stack().sort_values()"
   ]
  },
  {
   "cell_type": "markdown",
   "id": "7f4aed10",
   "metadata": {},
   "source": [
    "Filtrowanie wartości współczynnika korelacji na poziomie 0.8. Wartość 0.8 została dobrana aby zapewnić jak największa ilość danych użytych w póżniejszych krokach do modelowania."
   ]
  },
  {
   "cell_type": "code",
   "execution_count": null,
   "id": "03a2b950",
   "metadata": {
    "scrolled": true
   },
   "outputs": [],
   "source": [
    "corr_P_tri[abs(corr_P_tri)> 0.80]"
   ]
  },
  {
   "cell_type": "code",
   "execution_count": null,
   "id": "0d1c4bec",
   "metadata": {},
   "outputs": [],
   "source": [
    "sns.pairplot(df)"
   ]
  },
  {
   "cell_type": "code",
   "execution_count": null,
   "id": "fb71aeae",
   "metadata": {},
   "outputs": [],
   "source": [
    "plt.show()"
   ]
  },
  {
   "cell_type": "markdown",
   "id": "4a10a372",
   "metadata": {},
   "source": [
    "Usunięcie kolumn, które posiadają współczynnik Pearsona powyżej 0.8:\n"
   ]
  },
  {
   "cell_type": "code",
   "execution_count": null,
   "id": "b1b6c14b",
   "metadata": {},
   "outputs": [],
   "source": [
    "df = df.drop(['V1', 'V2', 'V3', 'V4', 'V5', 'V6', 'V7', 'V8', 'V11','V13', 'V14', 'V16', 'V21', 'V23', 'V26', 'V27', 'V27'], axis=1)"
   ]
  },
  {
   "cell_type": "code",
   "execution_count": null,
   "id": "61a380ef",
   "metadata": {},
   "outputs": [],
   "source": [
    "df.head()"
   ]
  },
  {
   "cell_type": "code",
   "execution_count": null,
   "id": "3eb853cd",
   "metadata": {},
   "outputs": [],
   "source": [
    "corr_P2 = df.corr(\"pearson\")"
   ]
  },
  {
   "cell_type": "code",
   "execution_count": null,
   "id": "752761f1",
   "metadata": {},
   "outputs": [],
   "source": [
    "corr_P2"
   ]
  },
  {
   "cell_type": "code",
   "execution_count": null,
   "id": "acf11801",
   "metadata": {},
   "outputs": [],
   "source": [
    "corr_P_tri2 = corr_P2.where(np.triu(np.ones(corr_P2.shape, dtype=bool),k=1)).stack().sort_values()"
   ]
  },
  {
   "cell_type": "code",
   "execution_count": null,
   "id": "48362201",
   "metadata": {},
   "outputs": [],
   "source": [
    "corr_P_tri2[abs(corr_P_tri2)> 0.80]"
   ]
  },
  {
   "cell_type": "markdown",
   "id": "956bd021",
   "metadata": {},
   "source": [
    "Badanie obecności punktów oddalonych:\n"
   ]
  },
  {
   "cell_type": "markdown",
   "id": "85283ceb",
   "metadata": {},
   "source": [
    "Metoda Z-score\n"
   ]
  },
  {
   "cell_type": "code",
   "execution_count": null,
   "id": "f5f7d852",
   "metadata": {},
   "outputs": [],
   "source": [
    "z = np.abs(stats.zscore(df))\n",
    "print(z)"
   ]
  },
  {
   "cell_type": "code",
   "execution_count": null,
   "id": "0e589897",
   "metadata": {},
   "outputs": [],
   "source": [
    "threshold = 3\n",
    "print(np.where(z > 3))"
   ]
  },
  {
   "cell_type": "code",
   "execution_count": null,
   "id": "3d903f93",
   "metadata": {},
   "outputs": [],
   "source": [
    "df_out = df[(z < 3.5).all(axis=1)]"
   ]
  },
  {
   "cell_type": "code",
   "execution_count": null,
   "id": "f3712c95",
   "metadata": {},
   "outputs": [],
   "source": [
    "df.shape"
   ]
  },
  {
   "cell_type": "code",
   "execution_count": null,
   "id": "1190a2b4",
   "metadata": {},
   "outputs": [],
   "source": [
    "df_out.shape"
   ]
  },
  {
   "cell_type": "markdown",
   "id": "66a063bb",
   "metadata": {},
   "source": [
    "7.2% punktów oddalonych (zwiekszylam zakres z score ze wzgledu na bardzo duza ilosc punktow oddalonych - nie chcialam tracic tylu danych by przeciwdzialac przeuczeniu"
   ]
  },
  {
   "cell_type": "code",
   "execution_count": null,
   "id": "0fe74380",
   "metadata": {},
   "outputs": [],
   "source": [
    "df.describe().T"
   ]
  },
  {
   "cell_type": "code",
   "execution_count": null,
   "id": "d52a21ca",
   "metadata": {},
   "outputs": [],
   "source": [
    "df_out.describe().T"
   ]
  },
  {
   "cell_type": "markdown",
   "id": "e8a0dffc",
   "metadata": {},
   "source": [
    "Sprawdzenie dystrybucji poszczegolnych zmiennych"
   ]
  },
  {
   "cell_type": "code",
   "execution_count": null,
   "id": "3f637868",
   "metadata": {},
   "outputs": [],
   "source": [
    "X = df_out.drop(['Diagnosis'], axis=1)\n",
    "X.hist(figsize=(20, 15), color = 'skyblue');"
   ]
  },
  {
   "cell_type": "markdown",
   "id": "9110db56",
   "metadata": {},
   "source": [
    "Model Nr1 - Regresja logistyczna:"
   ]
  },
  {
   "cell_type": "markdown",
   "id": "6d83d76e",
   "metadata": {},
   "source": [
    "Podział danych na zbiór treningowy oraz testowy (na poziomie 80% treningowy oraz 20% testowy):"
   ]
  },
  {
   "cell_type": "code",
   "execution_count": null,
   "id": "092fd5a1",
   "metadata": {},
   "outputs": [],
   "source": [
    "X = df_out.drop(['Diagnosis'], axis=1)\n",
    "y = df_out['Diagnosis']"
   ]
  },
  {
   "cell_type": "code",
   "execution_count": null,
   "id": "b4af8370",
   "metadata": {},
   "outputs": [],
   "source": [
    "X_train, X_test, y_train, y_test = train_test_split(X, y, test_size=0.2, random_state=40)"
   ]
  },
  {
   "cell_type": "markdown",
   "id": "03a6f3fc",
   "metadata": {},
   "source": [
    "Standaryzacja:"
   ]
  },
  {
   "cell_type": "code",
   "execution_count": null,
   "id": "d811a48f",
   "metadata": {},
   "outputs": [],
   "source": [
    "m = X.mean()\n",
    "s = X.std()"
   ]
  },
  {
   "cell_type": "code",
   "execution_count": null,
   "id": "1ec11e67",
   "metadata": {},
   "outputs": [],
   "source": [
    "X_train_std = (X_train- m)/s\n",
    "X_test_std = (X_test - m)/s"
   ]
  },
  {
   "cell_type": "markdown",
   "id": "d55db5bb",
   "metadata": {},
   "source": [
    "Modelowanie:"
   ]
  },
  {
   "cell_type": "code",
   "execution_count": null,
   "id": "8a7fbe68",
   "metadata": {},
   "outputs": [],
   "source": [
    "l_clf = LogisticRegression()\n",
    "l_clf.fit(X_train_std,y_train)\n",
    "\n"
   ]
  },
  {
   "cell_type": "code",
   "execution_count": null,
   "id": "d5a211c5",
   "metadata": {},
   "outputs": [],
   "source": [
    "y_pred_train = l_clf.predict(X_train_std)"
   ]
  },
  {
   "cell_type": "code",
   "execution_count": null,
   "id": "e78efe85",
   "metadata": {},
   "outputs": [],
   "source": [
    "y_pred = l_clf.predict(X_test_std)"
   ]
  },
  {
   "cell_type": "markdown",
   "id": "c242bed3",
   "metadata": {},
   "source": [
    "Metoda walidująca model przez cztery wybrane metryki accuracy (ACC), precision (P), recall (R) i F1:"
   ]
  },
  {
   "cell_type": "code",
   "execution_count": null,
   "id": "435d80f0",
   "metadata": {},
   "outputs": [],
   "source": [
    "def metrics(y_train, y_pred_train, y_test, y_pred):\n",
    "    return {\n",
    "        \"ACC_train\":  sklearn.metrics.accuracy_score(y_pred_train, y_train),\n",
    "        \"ACC_test\": sklearn.metrics.accuracy_score(y_pred, y_test),\n",
    "        \"P_train\":    sklearn.metrics.precision_score(y_pred_train, y_train),\n",
    "        \"P_test\":   sklearn.metrics.precision_score(y_pred, y_test),\n",
    "        \"R_train\":    sklearn.metrics.recall_score(y_pred_train, y_train),\n",
    "        \"R_test\":   sklearn.metrics.recall_score(y_pred, y_test),\n",
    "        \"F1_train\":   sklearn.metrics.f1_score(y_pred_train, y_train),\n",
    "        \"F1_test\":  sklearn.metrics.f1_score(y_pred, y_test)\n",
    "    }"
   ]
  },
  {
   "cell_type": "markdown",
   "id": "159e73a0",
   "metadata": {},
   "source": [
    "Stworzenie ramki danych w celu zebrania wyników ze wszystkich wykonanych modeli:"
   ]
  },
  {
   "cell_type": "code",
   "execution_count": null,
   "id": "d4db279d",
   "metadata": {},
   "outputs": [],
   "source": [
    "params = [\"Log\"]\n",
    "res = [metrics(y_train, y_pred_train, y_test, y_pred)]\n",
    "df_wyniki = pd.DataFrame(res, index=params)"
   ]
  },
  {
   "cell_type": "code",
   "execution_count": null,
   "id": "6d7b301b",
   "metadata": {},
   "outputs": [],
   "source": [
    "df_wyniki"
   ]
  },
  {
   "cell_type": "markdown",
   "id": "1ce1c2d5",
   "metadata": {},
   "source": [
    "Macierz pomyłek dla regresji logistycznej (zbiór treningowy oraz testowy):"
   ]
  },
  {
   "cell_type": "code",
   "execution_count": null,
   "id": "b5605116",
   "metadata": {},
   "outputs": [],
   "source": [
    "#zbiór treningowy\n",
    "plot_confusion_matrix(l_clf, X_train_std, y_train)\n",
    "plt.show()"
   ]
  },
  {
   "cell_type": "code",
   "execution_count": null,
   "id": "9c352c48",
   "metadata": {},
   "outputs": [],
   "source": [
    "#zbiór testowy\n",
    "plot_confusion_matrix(l_clf, X_test_std, y_test)\n",
    "plt.show()"
   ]
  },
  {
   "cell_type": "markdown",
   "id": "d894821f",
   "metadata": {},
   "source": [
    "Model II - Metoda k-najbliższych sąsiadów"
   ]
  },
  {
   "cell_type": "markdown",
   "id": "622c105f",
   "metadata": {},
   "source": [
    "Modelowanie:"
   ]
  },
  {
   "cell_type": "code",
   "execution_count": null,
   "id": "3456e6c3",
   "metadata": {},
   "outputs": [],
   "source": [
    "knn = sklearn.neighbors.KNeighborsClassifier(n_neighbors=10)\n"
   ]
  },
  {
   "cell_type": "markdown",
   "id": "31331340",
   "metadata": {},
   "source": [
    "Szukanie najlepszych hiperparametrów za pomocą metody Grid Search:"
   ]
  },
  {
   "cell_type": "code",
   "execution_count": null,
   "id": "cbed38a6",
   "metadata": {},
   "outputs": [],
   "source": [
    "knn_params = {'n_neighbors': range(1, 11), 'weights':['uniform', 'distance']}\n",
    "knn_grid = GridSearchCV(knn, knn_params, cv=10, n_jobs=-1, scoring='recall')\n"
   ]
  },
  {
   "cell_type": "code",
   "execution_count": null,
   "id": "f62b0895",
   "metadata": {},
   "outputs": [],
   "source": [
    "knn_grid.fit(X_train_std, y_train)"
   ]
  },
  {
   "cell_type": "code",
   "execution_count": null,
   "id": "c72fa8ba",
   "metadata": {},
   "outputs": [],
   "source": [
    "knn_grid.best_params_, knn_grid.best_score_"
   ]
  },
  {
   "cell_type": "code",
   "execution_count": null,
   "id": "3416f4b8",
   "metadata": {},
   "outputs": [],
   "source": [
    "knn = sklearn.neighbors.KNeighborsClassifier(n_neighbors=3, weights='uniform')\n"
   ]
  },
  {
   "cell_type": "code",
   "execution_count": null,
   "id": "ba355fc1",
   "metadata": {},
   "outputs": [],
   "source": [
    "knn.fit(X_train_std, y_train)"
   ]
  },
  {
   "cell_type": "code",
   "execution_count": null,
   "id": "f1c8fdda",
   "metadata": {},
   "outputs": [],
   "source": [
    "knn.get_params()"
   ]
  },
  {
   "cell_type": "code",
   "execution_count": null,
   "id": "3f5c2a71",
   "metadata": {},
   "outputs": [],
   "source": [
    "y_pred_train_knn = knn.predict(X_train_std)"
   ]
  },
  {
   "cell_type": "code",
   "execution_count": null,
   "id": "47fdc751",
   "metadata": {},
   "outputs": [],
   "source": [
    "y_pred_knn = knn.predict(X_test_std)"
   ]
  },
  {
   "cell_type": "markdown",
   "id": "85f26b82",
   "metadata": {},
   "source": [
    "Metryki:"
   ]
  },
  {
   "cell_type": "code",
   "execution_count": null,
   "id": "0713218c",
   "metadata": {},
   "outputs": [],
   "source": [
    "params.append(\"knn\")\n",
    "res.append(metrics(y_train, y_pred_train_knn, y_test, y_pred_knn))\n",
    "df_wyniki = pd.DataFrame(res, index=params)"
   ]
  },
  {
   "cell_type": "code",
   "execution_count": null,
   "id": "22088c95",
   "metadata": {},
   "outputs": [],
   "source": [
    "df_wyniki"
   ]
  },
  {
   "cell_type": "markdown",
   "id": "1533d0db",
   "metadata": {},
   "source": [
    "Macierz pomyłek dla algorytmu k-najbliższych sąsiadów (zbiór treningowy oraz testowy):"
   ]
  },
  {
   "cell_type": "code",
   "execution_count": null,
   "id": "89145703",
   "metadata": {},
   "outputs": [],
   "source": [
    "plot_confusion_matrix(knn, X_train_std, y_train)\n",
    "plt.show()"
   ]
  },
  {
   "cell_type": "code",
   "execution_count": null,
   "id": "9bc7171c",
   "metadata": {},
   "outputs": [],
   "source": [
    "plot_confusion_matrix(knn, X_test_std, y_test)\n",
    "plt.show()"
   ]
  },
  {
   "cell_type": "markdown",
   "id": "03185c98",
   "metadata": {},
   "source": [
    "Model III: Las losowy"
   ]
  },
  {
   "cell_type": "markdown",
   "id": "491e3ecc",
   "metadata": {},
   "source": [
    "Modelowanie:"
   ]
  },
  {
   "cell_type": "markdown",
   "id": "2f6ef5a1",
   "metadata": {},
   "source": [
    "Szukanie najlepszych hiperparametrów za pomocą metody Grid Search:"
   ]
  },
  {
   "cell_type": "code",
   "execution_count": null,
   "id": "04f46e6e",
   "metadata": {},
   "outputs": [],
   "source": [
    "skf = StratifiedKFold(n_splits=10, shuffle=True, random_state=17)"
   ]
  },
  {
   "cell_type": "code",
   "execution_count": null,
   "id": "ffb75a98",
   "metadata": {},
   "outputs": [],
   "source": [
    "rfc_params = {'max_features': range(1,11), 'min_samples_leaf': range(1,3), 'max_depth': range(3,13), 'criterion':['gini','entropy']}\n",
    "\n",
    "rfc = RandomForestClassifier(n_estimators=100, random_state=17, n_jobs= -1)\n",
    "\n",
    "gcv = GridSearchCV(rfc, rfc_params, n_jobs=-1, cv=skf, scoring='recall')\n",
    "\n",
    "gcv.fit(X_train_std, y_train)"
   ]
  },
  {
   "cell_type": "code",
   "execution_count": null,
   "id": "fdecfe14",
   "metadata": {},
   "outputs": [],
   "source": [
    "gcv.best_params_, gcv.best_score_"
   ]
  },
  {
   "cell_type": "code",
   "execution_count": null,
   "id": "9bd697ae",
   "metadata": {},
   "outputs": [],
   "source": [
    "las = sklearn.ensemble.RandomForestClassifier(n_estimators=100, criterion ='gini', max_depth = 5, max_features = 6, min_samples_leaf = 2, random_state = 17, n_jobs=-1)\n",
    "las.fit(X_train_std, y_train)"
   ]
  },
  {
   "cell_type": "code",
   "execution_count": null,
   "id": "3dc3c4a0",
   "metadata": {},
   "outputs": [],
   "source": [
    "y_pred_train_las = las.predict(X_train_std)"
   ]
  },
  {
   "cell_type": "code",
   "execution_count": null,
   "id": "37cd3d85",
   "metadata": {},
   "outputs": [],
   "source": [
    "y_pred_las = las.predict(X_test_std)"
   ]
  },
  {
   "cell_type": "markdown",
   "id": "f50a1312",
   "metadata": {},
   "source": [
    "Metryki:"
   ]
  },
  {
   "cell_type": "code",
   "execution_count": null,
   "id": "9aefad45",
   "metadata": {},
   "outputs": [],
   "source": [
    "params.append(\"las\")\n",
    "res.append(metrics(y_train, y_pred_train_las, y_test, y_pred_las))\n",
    "df_wyniki = pd.DataFrame(res, index=params)"
   ]
  },
  {
   "cell_type": "code",
   "execution_count": null,
   "id": "bad363d2",
   "metadata": {},
   "outputs": [],
   "source": [
    "df_wyniki"
   ]
  },
  {
   "cell_type": "markdown",
   "id": "e5195096",
   "metadata": {},
   "source": [
    "Las losowy umożliwia określenie 'ważności' zmiennych użytych do modelowania. "
   ]
  },
  {
   "cell_type": "code",
   "execution_count": null,
   "id": "e7671fab",
   "metadata": {},
   "outputs": [],
   "source": [
    "featimp = pd.Series(las.feature_importances_, index=X.columns[0:14]).sort_values(ascending=False)\n",
    "print(featimp)"
   ]
  },
  {
   "cell_type": "markdown",
   "id": "83e2e183",
   "metadata": {},
   "source": [
    "Macierz pomyłek dla lasu losowego (zbiór treningowy oraz testowy):"
   ]
  },
  {
   "cell_type": "code",
   "execution_count": null,
   "id": "76cd5f2e",
   "metadata": {},
   "outputs": [],
   "source": [
    "plot_confusion_matrix(las, X_train_std, y_train)\n",
    "plt.show()"
   ]
  },
  {
   "cell_type": "code",
   "execution_count": null,
   "id": "36c5ec80",
   "metadata": {},
   "outputs": [],
   "source": [
    "plot_confusion_matrix(las, X_test_std, y_test)\n",
    "plt.show()"
   ]
  },
  {
   "cell_type": "markdown",
   "id": "806f2473",
   "metadata": {},
   "source": [
    "Wnioski: Porównanie metryk oraz wybranie najlepszego modelu"
   ]
  },
  {
   "cell_type": "code",
   "execution_count": null,
   "id": "4c834cfa",
   "metadata": {},
   "outputs": [],
   "source": [
    "df_wyniki"
   ]
  },
  {
   "cell_type": "code",
   "execution_count": null,
   "id": "efe96074",
   "metadata": {},
   "outputs": [],
   "source": [
    "df_train = df_wyniki.drop(['ACC_test', 'P_test', 'R_test', 'F1_test'], axis=1)"
   ]
  },
  {
   "cell_type": "code",
   "execution_count": null,
   "id": "ea5bcbd6",
   "metadata": {},
   "outputs": [],
   "source": [
    "df_test = df_wyniki.drop(['ACC_train', 'P_train', 'R_train', 'F1_train'], axis=1)"
   ]
  },
  {
   "cell_type": "code",
   "execution_count": null,
   "id": "ccdf187f",
   "metadata": {},
   "outputs": [],
   "source": [
    "ax = df_train.plot(kind='bar', figsize = (15,10), ylim = (0.85, 1.05), \n",
    "        color = ['gold', 'lightgreen', 'lightcoral', 'lightskyblue'],\n",
    "        rot = 0, title ='Porównanie metryk dla zbioru uczącego',\n",
    "        edgecolor = 'grey', alpha = 0.5)\n",
    "\n",
    "plt.show()"
   ]
  },
  {
   "cell_type": "code",
   "execution_count": null,
   "id": "55541ae8",
   "metadata": {},
   "outputs": [],
   "source": [
    "ax = df_test.plot(kind='bar', figsize = (15,10), ylim = (0.850, 1.05), \n",
    "        color = ['gold', 'lightgreen', 'lightcoral', 'lightskyblue'],\n",
    "        rot = 0, title ='Porównanie metryk dla zbioru testującego',\n",
    "        edgecolor = 'grey', alpha = 0.5)\n",
    "\n",
    "plt.show()"
   ]
  },
  {
   "cell_type": "markdown",
   "id": "c7d421b5",
   "metadata": {},
   "source": [
    "Uzasadnienie wyboru modeli:"
   ]
  },
  {
   "cell_type": "markdown",
   "id": "01641745",
   "metadata": {},
   "source": [
    "W powyższej analizie zastosowane zostały trzy modele: regresja logistyczna, metoda k-najbliższych sąsiadów oraz losowy las decyzjny.\n",
    "Model regresji logistycznej znajduje zastosowanie, gdy zmienna jest dychotomiczna, to znaczy przyjmuje dwie wartości - co sprawia, że jest to pierwszy wybór po analizie powyższego zbioru danych, gdzie zmienna celu występuje jako dwie wartości M i B.\n",
    "Algorytm k-najbliższych sąsiadów, w odróżnieniu od regresji, nie opiera się na trenowaniu modelu w celu generowania predykcji zmiennych objaśnianych. Z tego powodu nazywany jest również często algorytmem leniwym. Idea jego działania polega na przyporządkowaniu wszystkim danym wejściowym zestawu cech oraz umieszczeniu ich w wielowymiarowej przestrzeni w oparciu o miarę podobieństwa. Model został wybrany ze względu na szerokie zastosowanie w metodach opartych na klasyfikacji.\n",
    "Ostatni model to losowy las decyzyjny. Został on wybrany ze względu na duże zastosowanie w metodach uczenia maszynowego dla klasyfikacji, czy regresji. Losowe lasy decyzyjne poprawiają tendencję drzew decyzyjnych do nadmiernego dopasowania się do zestawu treningowego."
   ]
  },
  {
   "cell_type": "markdown",
   "id": "5dec501e",
   "metadata": {},
   "source": [
    "Kryteria wyboru najlepszego modelu:"
   ]
  },
  {
   "cell_type": "markdown",
   "id": "55e373ba",
   "metadata": {},
   "source": [
    "Macierz pomyłek jest metodą reprezentacji wyników predykcji w problemach klasyfikacji, dlatego też została zastosowana do ewaluacji powyższych modeli. Jest to tabela z czterema różnymi kombinacjami wartości przewidywanych i rzeczywistych. Macierz pomyłek przedstawia nie tylko błędy popełniane przez klasyfikator, ale co ważniejsze pokazuje jakie to są rodzaje błędów."
   ]
  },
  {
   "cell_type": "markdown",
   "id": "8a70864d",
   "metadata": {},
   "source": [
    "Accuracy - stosunek ilości poprawnie przewidzianych wartości do łącznej liczby wierszy w zbiorze testowym."
   ]
  },
  {
   "cell_type": "markdown",
   "id": "0f9f8d51",
   "metadata": {},
   "source": [
    "Precision - 'Jeżeli model przewidział, że wartość należy do danej klasy to jakie prawdopodobieństwo, że ta predykcja jest poprawna?'"
   ]
  },
  {
   "cell_type": "markdown",
   "id": "188f3328",
   "metadata": {},
   "source": [
    "Recall - odpowiada na pytanie: „Jakie jest prawdopodobieństwo, że model przewidzi iż wartość należy do klasy T, gdy faktycznie ta wartość do niej należy"
   ]
  },
  {
   "cell_type": "markdown",
   "id": "50227173",
   "metadata": {},
   "source": [
    "F1-score - to średnia harmoniczna pomiędzy precyzją (precision) i czułością (recall)"
   ]
  },
  {
   "cell_type": "markdown",
   "id": "fc6776b6",
   "metadata": {},
   "source": [
    "# Podsumowanie:"
   ]
  },
  {
   "cell_type": "markdown",
   "id": "1b6b5cdd",
   "metadata": {},
   "source": [
    "Analizując powyższe tabelę oraz wykresy - zarówno dla zbioru uczącego jak i testującego - najlepszym modelem ze względu na wybrane metryki jest losowy las decyzyjny. Każda z metryk (dokładność, precyzyjność, czułość oraz F1-score) ma najwyższy wynik, zarówno analizując zbiór uczący jak i testujący. Ze względu na typ danych (klasyfikacja nowotworu jako złośliwy czy łagodny) dużą uwagę można zwrócić na metrykę precyzji - gdyż na jej wyniku nam najbardziej zależy - najwyższy wynik również odpowiada losowemu lasowi decyzyjnemu. Wybór  modelu pokrywa się z szerokim zastosowaniem lasu losowego, który jest niezwykle popularny w badaniach genetycznych, przewidywaniu aktywności biologicznej cząsteczek czy analizie dokumentów tekstowych - czyli tam, gdzie mamy do czynienia z dużą liczbą cech. Minusem lasów losowych może być fakt, że czasami się przeuczają. Podczas obróbki danych znakomita większość zmiennych została określona jako współliniowa (co jest całkowicie zrozumiałe, gdy wiemy iż zmienne odpowiadają wymiarom nowotworu) oraz ok. 7% wyników okreslona jako punkty odstające - przez co wybrane modele prowadziły do przeucznia. By temu zapobiec została zastosowana metoda Grid Search - w celu ustalenia optymalnych hiperparametrów dla danych modeli - dzięki temu zostały uzyskane zadowalające wyniki metryk. Razem z zastosowaniem techniki Grid Search - automatycznie wzrasta nam czas poświęcony na modelowanie, co może być wadą tego modelu - choć znów można podeprzeć się tu typem danych - dłuższy czas poświęcony na modelowanie może zwiększyć dokładność klasyfikacji, co przy odróżnieniu nowotworów jest bardzo istotne. "
   ]
  }
 ],
 "metadata": {
  "kernelspec": {
   "display_name": "Python 3 (ipykernel)",
   "language": "python",
   "name": "python3"
  },
  "language_info": {
   "codemirror_mode": {
    "name": "ipython",
    "version": 3
   },
   "file_extension": ".py",
   "mimetype": "text/x-python",
   "name": "python",
   "nbconvert_exporter": "python",
   "pygments_lexer": "ipython3",
   "version": "3.9.7"
  }
 },
 "nbformat": 4,
 "nbformat_minor": 5
}
